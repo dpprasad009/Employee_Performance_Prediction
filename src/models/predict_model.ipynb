{
  "nbformat": 4,
  "nbformat_minor": 0,
  "metadata": {
    "colab": {
      "provenance": []
    },
    "kernelspec": {
      "name": "python3",
      "display_name": "Python 3"
    },
    "language_info": {
      "name": "python"
    }
  },
  "cells": [
    {
      "cell_type": "code",
      "source": [
        "import pandas as pd\n",
        "from sklearn.model_selection import train_test_split"
      ],
      "metadata": {
        "id": "DokOAtih-mVG"
      },
      "execution_count": 27,
      "outputs": []
    },
    {
      "cell_type": "code",
      "source": [
        "# STEP 1: Load original raw Excel data\n",
        "df = pd.read_excel(\"INX_Future_Inc_Employee_Performance_CDS_Project2_Data_V1.8.xls\")"
      ],
      "metadata": {
        "id": "eoR7fs5LAdM3"
      },
      "execution_count": 28,
      "outputs": []
    },
    {
      "cell_type": "code",
      "execution_count": 29,
      "metadata": {
        "id": "OeBCsFgh9qu_"
      },
      "outputs": [],
      "source": [
        "# STEP 2: Drop ID column (not needed for training)\n",
        "df = df.drop(columns=['EmpNumber'])"
      ]
    },
    {
      "cell_type": "code",
      "source": [
        "# STEP 3: Encode binary categorical variables (Label Encoding)\n",
        "df['Gender'] = df['Gender'].map({'Male': 1, 'Female': 0})\n",
        "df['OverTime'] = df['OverTime'].map({'Yes': 1, 'No': 0})\n",
        "df['Attrition'] = df['Attrition'].map({'Yes': 1, 'No': 0})"
      ],
      "metadata": {
        "id": "mgmViFQn-FIm"
      },
      "execution_count": 30,
      "outputs": []
    },
    {
      "cell_type": "code",
      "source": [
        "# STEP 4: One-hot encode all other object (text) columns\n",
        "df = pd.get_dummies(df, drop_first=True)"
      ],
      "metadata": {
        "id": "ccabgJV1-PCN"
      },
      "execution_count": 31,
      "outputs": []
    },
    {
      "cell_type": "code",
      "source": [
        "# STEP 5: Split data into features (X) and target (y)\n",
        "X = df.drop('PerformanceRating', axis=1)\n",
        "y = df['PerformanceRating']"
      ],
      "metadata": {
        "id": "AWqXKL_ZAx92"
      },
      "execution_count": 32,
      "outputs": []
    },
    {
      "cell_type": "code",
      "source": [
        "# STEP 6: Split into train/test sets\n",
        "X_train, X_test, y_train, y_test = train_test_split(X, y, test_size=0.2, random_state=42)"
      ],
      "metadata": {
        "id": "sO0ay5QbA0tH"
      },
      "execution_count": 33,
      "outputs": []
    },
    {
      "cell_type": "code",
      "source": [
        "from sklearn.ensemble import RandomForestClassifier\n",
        "from sklearn.linear_model import LogisticRegression\n",
        "from sklearn.tree import DecisionTreeClassifier\n",
        "from sklearn.svm import SVC"
      ],
      "metadata": {
        "id": "8DxFgeIMA2xt"
      },
      "execution_count": 35,
      "outputs": []
    },
    {
      "cell_type": "code",
      "source": [
        "# Define models\n",
        "models = {\n",
        "    \"Random Forest\": RandomForestClassifier(n_estimators=100, random_state=42),\n",
        "    \"Logistic Regression\": LogisticRegression(max_iter=1000),\n",
        "    \"Decision Tree\": DecisionTreeClassifier(random_state=42),\n",
        "    \"SVM\": SVC()\n",
        "}"
      ],
      "metadata": {
        "id": "k9yp0_ZFA5em"
      },
      "execution_count": 36,
      "outputs": []
    },
    {
      "cell_type": "code",
      "source": [
        "# Train all models\n",
        "fitted_models = {}\n",
        "for name, model in models.items():\n",
        "    model.fit(X_train, y_train)\n",
        "    fitted_models[name] = model"
      ],
      "metadata": {
        "colab": {
          "base_uri": "https://localhost:8080/"
        },
        "id": "kDyq9uJRBGL1",
        "outputId": "c4661586-7708-4a35-b48f-8b29f37d8339"
      },
      "execution_count": 37,
      "outputs": [
        {
          "output_type": "stream",
          "name": "stderr",
          "text": [
            "/usr/local/lib/python3.11/dist-packages/sklearn/linear_model/_logistic.py:465: ConvergenceWarning: lbfgs failed to converge (status=1):\n",
            "STOP: TOTAL NO. OF ITERATIONS REACHED LIMIT.\n",
            "\n",
            "Increase the number of iterations (max_iter) or scale the data as shown in:\n",
            "    https://scikit-learn.org/stable/modules/preprocessing.html\n",
            "Please also refer to the documentation for alternative solver options:\n",
            "    https://scikit-learn.org/stable/modules/linear_model.html#logistic-regression\n",
            "  n_iter_i = _check_optimize_result(\n"
          ]
        }
      ]
    },
    {
      "cell_type": "code",
      "source": [
        "from sklearn.metrics import accuracy_score, classification_report"
      ],
      "metadata": {
        "id": "URo-Lhm4BILu"
      },
      "execution_count": 38,
      "outputs": []
    },
    {
      "cell_type": "code",
      "source": [
        "# Evaluate each model\n",
        "for name, model in fitted_models.items():\n",
        "    print(f\"\\n Model: {name}\")\n",
        "    y_pred = model.predict(X_test)\n",
        "    acc = accuracy_score(y_test, y_pred)\n",
        "    print(\"Accuracy:\", round(acc * 100, 2), \"%\")\n",
        "    print(\"Classification Report:\")\n",
        "    print(classification_report(y_test, y_pred))"
      ],
      "metadata": {
        "colab": {
          "base_uri": "https://localhost:8080/"
        },
        "id": "IJFCDItEBpoO",
        "outputId": "ad0aa3f8-7a3c-4804-b87f-5e34fb773ab4"
      },
      "execution_count": 40,
      "outputs": [
        {
          "output_type": "stream",
          "name": "stdout",
          "text": [
            "\n",
            " Model: Random Forest\n",
            "Accuracy: 93.75 %\n",
            "Classification Report:\n",
            "              precision    recall  f1-score   support\n",
            "\n",
            "           2       0.90      0.90      0.90        29\n",
            "           3       0.94      0.98      0.96       184\n",
            "           4       0.95      0.70      0.81        27\n",
            "\n",
            "    accuracy                           0.94       240\n",
            "   macro avg       0.93      0.86      0.89       240\n",
            "weighted avg       0.94      0.94      0.94       240\n",
            "\n",
            "\n",
            " Model: Logistic Regression\n",
            "Accuracy: 85.0 %\n",
            "Classification Report:\n",
            "              precision    recall  f1-score   support\n",
            "\n",
            "           2       0.57      0.59      0.58        29\n",
            "           3       0.89      0.92      0.91       184\n",
            "           4       0.86      0.67      0.75        27\n",
            "\n",
            "    accuracy                           0.85       240\n",
            "   macro avg       0.77      0.72      0.74       240\n",
            "weighted avg       0.85      0.85      0.85       240\n",
            "\n",
            "\n",
            " Model: Decision Tree\n",
            "Accuracy: 88.33 %\n",
            "Classification Report:\n",
            "              precision    recall  f1-score   support\n",
            "\n",
            "           2       0.77      0.79      0.78        29\n",
            "           3       0.93      0.92      0.92       184\n",
            "           4       0.71      0.74      0.73        27\n",
            "\n",
            "    accuracy                           0.88       240\n",
            "   macro avg       0.80      0.82      0.81       240\n",
            "weighted avg       0.88      0.88      0.88       240\n",
            "\n",
            "\n",
            " Model: SVM\n",
            "Accuracy: 76.67 %\n",
            "Classification Report:\n",
            "              precision    recall  f1-score   support\n",
            "\n",
            "           2       0.00      0.00      0.00        29\n",
            "           3       0.77      1.00      0.87       184\n",
            "           4       0.00      0.00      0.00        27\n",
            "\n",
            "    accuracy                           0.77       240\n",
            "   macro avg       0.26      0.33      0.29       240\n",
            "weighted avg       0.59      0.77      0.67       240\n",
            "\n"
          ]
        },
        {
          "output_type": "stream",
          "name": "stderr",
          "text": [
            "/usr/local/lib/python3.11/dist-packages/sklearn/metrics/_classification.py:1565: UndefinedMetricWarning: Precision is ill-defined and being set to 0.0 in labels with no predicted samples. Use `zero_division` parameter to control this behavior.\n",
            "  _warn_prf(average, modifier, f\"{metric.capitalize()} is\", len(result))\n",
            "/usr/local/lib/python3.11/dist-packages/sklearn/metrics/_classification.py:1565: UndefinedMetricWarning: Precision is ill-defined and being set to 0.0 in labels with no predicted samples. Use `zero_division` parameter to control this behavior.\n",
            "  _warn_prf(average, modifier, f\"{metric.capitalize()} is\", len(result))\n",
            "/usr/local/lib/python3.11/dist-packages/sklearn/metrics/_classification.py:1565: UndefinedMetricWarning: Precision is ill-defined and being set to 0.0 in labels with no predicted samples. Use `zero_division` parameter to control this behavior.\n",
            "  _warn_prf(average, modifier, f\"{metric.capitalize()} is\", len(result))\n"
          ]
        }
      ]
    },
    {
      "cell_type": "code",
      "source": [],
      "metadata": {
        "id": "VYoD1uKJBs6N"
      },
      "execution_count": null,
      "outputs": []
    }
  ]
}